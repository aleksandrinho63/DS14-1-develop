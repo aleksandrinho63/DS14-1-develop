{
  "cells": [
    {
      "cell_type": "code",
      "execution_count": 7,
      "metadata": {
        "id": "zIeCuzwQx79N",
        "tags": []
      },
      "outputs": [],
      "source": [
        "import pandas as pd\n",
        "from sklearn.metrics.pairwise import linear_kernel, cosine_similarity\n",
        "from sklearn.feature_extraction.text import TfidfVectorizer\n",
        "from sklearn.metrics.pairwise import cosine_similarity\n"
      ]
    },
    {
      "cell_type": "markdown",
      "metadata": {
        "id": "O1gLuqYAx79U"
      },
      "source": [
        "## Задание 1"
      ]
    },
    {
      "cell_type": "markdown",
      "metadata": {
        "id": "Hls1TknNx79Z"
      },
      "source": [
        "Открой файл [distances.ipynb](src/notebooks/distances.ipynb).\n",
        "* Объедини общие данные о фильмах [tmdb_5000_movies](https://files.sberdisk.ru/s/te4QbzdxKgsFQXA) и каст фильмов\n",
        "[tmdb_5000_credits](https://files.sberdisk.ru/s/H9oRuXQt5mFz3T9).\n",
        "* Оставь в датасете только фильмы, которые вышли в \"релиз\".\n",
        "* Убери фильмы с пропусками в колонках ['overview', 'genres', 'keywords']\n",
        "* Выведи количество фильмов, оставшихся в выборке"
      ]
    },
    {
      "cell_type": "code",
      "execution_count": 5,
      "metadata": {
        "colab": {
          "base_uri": "https://localhost:8080/"
        },
        "id": "P_-aDkRhx79b",
        "outputId": "345c2054-95b6-423a-f428-e224cc1f690e"
      },
      "outputs": [
        {
          "name": "stdout",
          "output_type": "stream",
          "text": [
            "Количество фильмов, оставшихся после фильтрации: 4792\n"
          ]
        }
      ],
      "source": [
        "movies = pd.read_csv('/home/alexander/PycharmProjects/DS14-1-develop/datasets/tmdb_5000_movies.csv', sep=',')\n",
        "credits = pd.read_csv('/home/alexander/PycharmProjects/DS14-1-develop/datasets/tmdb_5000_credits.csv', sep=',')\n",
        "mergeDf = pd.merge(movies, credits, left_on='id', right_on='movie_id')\n",
        "mergeDf.rename(columns={'title_x': 'title'}, inplace=True)\n",
        "mergeDf.drop('title_y', axis=1, inplace=True)\n",
        "filterDf = mergeDf[mergeDf['status'] == 'Released']\n",
        "filterDf = filterDf.dropna(subset=['overview', 'genres', 'keywords'])\n",
        "print(f'Количество фильмов, оставшихся после фильтрации: {filterDf.shape[0]}')\n"
      ]
    },
    {
      "cell_type": "markdown",
      "metadata": {
        "id": "hF8WW2sRx79b"
      },
      "source": [
        "## Задание 2"
      ]
    },
    {
      "cell_type": "markdown",
      "metadata": {
        "id": "wDPx18xNx79c"
      },
      "source": [
        "Реализуем алгоритм рекомендации на основе описания фильма (`overview`) и ключевых слов к фильму (`keywords`).\n",
        "Объедини тексты этих колонок и проведи предобработку:\n",
        "* Замени NaN в описании фильма на пустой символ `''`\n",
        "* Удали все английские стоп-слова (используй параметр `stop_words` в `TfidfVectorizer`)\n",
        "* Рассчитай матрицу [Tf-Idf](https://scikit-learn.org/stable/modules/generated/sklearn.feature_extraction.text.TfidfVectorizer.html) для описания фильмов.\n",
        "\n",
        "Выведи размер получившейся матрицы\n",
        "> Параметр `max_features` в `TfidfVectorizer` должен быть равен 10000"
      ]
    },
    {
      "cell_type": "code",
      "execution_count": 6,
      "metadata": {
        "colab": {
          "base_uri": "https://localhost:8080/"
        },
        "id": "jr483shex79d",
        "outputId": "b9aee93c-4a06-43e1-d841-8afb26ee2640"
      },
      "outputs": [
        {
          "name": "stdout",
          "output_type": "stream",
          "text": [
            "Размер матрицы TfIdf= (4792, 10000)\n"
          ]
        }
      ],
      "source": [
        "dfCopy2 = filterDf.copy()\n",
        "dfCopy2['overview'].fillna('', inplace=True)\n",
        "text_data = dfCopy2['overview'] + ' ' + dfCopy2['keywords']\n",
        "vectorizer = TfidfVectorizer(stop_words='english', max_features=10000)\n",
        "tfidf_matrix = vectorizer.fit_transform(text_data)\n",
        "print(\"Размер матрицы TfIdf=\", tfidf_matrix.shape)\n"
      ]
    },
    {
      "cell_type": "markdown",
      "metadata": {
        "id": "DhYHP98lx79d"
      },
      "source": [
        "## Задание 3"
      ]
    },
    {
      "cell_type": "markdown",
      "metadata": {
        "id": "OI4XB_YOx79e"
      },
      "source": [
        "Рассчитай [cosine similarity](https://scikit-learn.org/stable/modules/generated/sklearn.metrics.pairwise.cosine_similarity.html)\n",
        "между фильмами. Составь из этой матрицы `pd.DataFrame`. Для дальнейшего удобства,\n",
        "колонки и индексы таблицы назови согласно`id` фильма. \\\n",
        "Сохрани получившийся `DataFrame` c расстояниями в папку [assets](src/assets) с названием `distance.csv`.\n",
        "А сам объединенный датасет с фильмами сохрани в папку [assets](src/assets) с названием `movies.csv`.\n",
        "\n",
        "> Получившиеся файлы `distance.csv` и `movies.csv` пушить в GitLab не нужно!"
      ]
    },
    {
      "cell_type": "code",
      "execution_count": 8,
      "metadata": {
        "id": "y479j-TSx79f"
      },
      "outputs": [],
      "source": [
        "cosine_sim = linear_kernel(tfidf_matrix, tfidf_matrix)\n",
        "distance_df = pd.DataFrame(cosine_sim, index=dfCopy2['id'], columns=dfCopy2['id'])\n",
        "distance_df.to_csv('/home/alexander/PycharmProjects/DS14-1-develop/src/assets/distance.csv')\n",
        "mergeDf.to_csv('/home/alexander/PycharmProjects/DS14-1-develop/src/assets/movies.csv', index=False)\n"
      ]
    }
  ],
  "metadata": {
    "colab": {
      "provenance": []
    },
    "kernelspec": {
      "display_name": "Python 3 (ipykernel)",
      "language": "python",
      "name": "python3"
    },
    "language_info": {
      "codemirror_mode": {
        "name": "ipython",
        "version": 3
      },
      "file_extension": ".py",
      "mimetype": "text/x-python",
      "name": "python",
      "nbconvert_exporter": "python",
      "pygments_lexer": "ipython3",
      "version": "3.10.6"
    }
  },
  "nbformat": 4,
  "nbformat_minor": 0
}
